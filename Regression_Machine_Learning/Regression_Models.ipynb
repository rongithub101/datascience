{
 "cells": [
  {
   "cell_type": "code",
   "execution_count": 218,
   "metadata": {},
   "outputs": [],
   "source": [
    "import pandas as pd\n",
    "import numpy as np\n",
    "import seaborn as sns\n",
    "import matplotlib.pyplot as plt\n",
    "%matplotlib inline"
   ]
  },
  {
   "cell_type": "code",
   "execution_count": 219,
   "metadata": {},
   "outputs": [],
   "source": [
    "df = pd.read_csv('Ecommerce Customers')"
   ]
  },
  {
   "cell_type": "code",
   "execution_count": 220,
   "metadata": {},
   "outputs": [
    {
     "data": {
      "text/html": [
       "<div>\n",
       "<style scoped>\n",
       "    .dataframe tbody tr th:only-of-type {\n",
       "        vertical-align: middle;\n",
       "    }\n",
       "\n",
       "    .dataframe tbody tr th {\n",
       "        vertical-align: top;\n",
       "    }\n",
       "\n",
       "    .dataframe thead th {\n",
       "        text-align: right;\n",
       "    }\n",
       "</style>\n",
       "<table border=\"1\" class=\"dataframe\">\n",
       "  <thead>\n",
       "    <tr style=\"text-align: right;\">\n",
       "      <th></th>\n",
       "      <th>Email</th>\n",
       "      <th>Address</th>\n",
       "      <th>Avatar</th>\n",
       "      <th>Avg. Session Length</th>\n",
       "      <th>Time on App</th>\n",
       "      <th>Time on Website</th>\n",
       "      <th>Length of Membership</th>\n",
       "      <th>Yearly Amount Spent</th>\n",
       "    </tr>\n",
       "  </thead>\n",
       "  <tbody>\n",
       "    <tr>\n",
       "      <th>0</th>\n",
       "      <td>mstephenson@fernandez.com</td>\n",
       "      <td>835 Frank Tunnel\\nWrightmouth, MI 82180-9605</td>\n",
       "      <td>Violet</td>\n",
       "      <td>34.497268</td>\n",
       "      <td>12.655651</td>\n",
       "      <td>39.577668</td>\n",
       "      <td>4.082621</td>\n",
       "      <td>587.951054</td>\n",
       "    </tr>\n",
       "    <tr>\n",
       "      <th>1</th>\n",
       "      <td>hduke@hotmail.com</td>\n",
       "      <td>4547 Archer Common\\nDiazchester, CA 06566-8576</td>\n",
       "      <td>DarkGreen</td>\n",
       "      <td>31.926272</td>\n",
       "      <td>11.109461</td>\n",
       "      <td>37.268959</td>\n",
       "      <td>2.664034</td>\n",
       "      <td>392.204933</td>\n",
       "    </tr>\n",
       "    <tr>\n",
       "      <th>2</th>\n",
       "      <td>pallen@yahoo.com</td>\n",
       "      <td>24645 Valerie Unions Suite 582\\nCobbborough, D...</td>\n",
       "      <td>Bisque</td>\n",
       "      <td>33.000915</td>\n",
       "      <td>11.330278</td>\n",
       "      <td>37.110597</td>\n",
       "      <td>4.104543</td>\n",
       "      <td>487.547505</td>\n",
       "    </tr>\n",
       "    <tr>\n",
       "      <th>3</th>\n",
       "      <td>riverarebecca@gmail.com</td>\n",
       "      <td>1414 David Throughway\\nPort Jason, OH 22070-1220</td>\n",
       "      <td>SaddleBrown</td>\n",
       "      <td>34.305557</td>\n",
       "      <td>13.717514</td>\n",
       "      <td>36.721283</td>\n",
       "      <td>3.120179</td>\n",
       "      <td>581.852344</td>\n",
       "    </tr>\n",
       "    <tr>\n",
       "      <th>4</th>\n",
       "      <td>mstephens@davidson-herman.com</td>\n",
       "      <td>14023 Rodriguez Passage\\nPort Jacobville, PR 3...</td>\n",
       "      <td>MediumAquaMarine</td>\n",
       "      <td>33.330673</td>\n",
       "      <td>12.795189</td>\n",
       "      <td>37.536653</td>\n",
       "      <td>4.446308</td>\n",
       "      <td>599.406092</td>\n",
       "    </tr>\n",
       "  </tbody>\n",
       "</table>\n",
       "</div>"
      ],
      "text/plain": [
       "                           Email  \\\n",
       "0      mstephenson@fernandez.com   \n",
       "1              hduke@hotmail.com   \n",
       "2               pallen@yahoo.com   \n",
       "3        riverarebecca@gmail.com   \n",
       "4  mstephens@davidson-herman.com   \n",
       "\n",
       "                                             Address            Avatar  \\\n",
       "0       835 Frank Tunnel\\nWrightmouth, MI 82180-9605            Violet   \n",
       "1     4547 Archer Common\\nDiazchester, CA 06566-8576         DarkGreen   \n",
       "2  24645 Valerie Unions Suite 582\\nCobbborough, D...            Bisque   \n",
       "3   1414 David Throughway\\nPort Jason, OH 22070-1220       SaddleBrown   \n",
       "4  14023 Rodriguez Passage\\nPort Jacobville, PR 3...  MediumAquaMarine   \n",
       "\n",
       "   Avg. Session Length  Time on App  Time on Website  Length of Membership  \\\n",
       "0            34.497268    12.655651        39.577668              4.082621   \n",
       "1            31.926272    11.109461        37.268959              2.664034   \n",
       "2            33.000915    11.330278        37.110597              4.104543   \n",
       "3            34.305557    13.717514        36.721283              3.120179   \n",
       "4            33.330673    12.795189        37.536653              4.446308   \n",
       "\n",
       "   Yearly Amount Spent  \n",
       "0           587.951054  \n",
       "1           392.204933  \n",
       "2           487.547505  \n",
       "3           581.852344  \n",
       "4           599.406092  "
      ]
     },
     "execution_count": 220,
     "metadata": {},
     "output_type": "execute_result"
    }
   ],
   "source": [
    "df.head()"
   ]
  },
  {
   "cell_type": "code",
   "execution_count": 221,
   "metadata": {},
   "outputs": [
    {
     "data": {
      "text/html": [
       "<div>\n",
       "<style scoped>\n",
       "    .dataframe tbody tr th:only-of-type {\n",
       "        vertical-align: middle;\n",
       "    }\n",
       "\n",
       "    .dataframe tbody tr th {\n",
       "        vertical-align: top;\n",
       "    }\n",
       "\n",
       "    .dataframe thead th {\n",
       "        text-align: right;\n",
       "    }\n",
       "</style>\n",
       "<table border=\"1\" class=\"dataframe\">\n",
       "  <thead>\n",
       "    <tr style=\"text-align: right;\">\n",
       "      <th></th>\n",
       "      <th>Avg. Session Length</th>\n",
       "      <th>Time on App</th>\n",
       "      <th>Time on Website</th>\n",
       "      <th>Length of Membership</th>\n",
       "      <th>Yearly Amount Spent</th>\n",
       "    </tr>\n",
       "  </thead>\n",
       "  <tbody>\n",
       "    <tr>\n",
       "      <th>count</th>\n",
       "      <td>500.000000</td>\n",
       "      <td>500.000000</td>\n",
       "      <td>500.000000</td>\n",
       "      <td>500.000000</td>\n",
       "      <td>500.000000</td>\n",
       "    </tr>\n",
       "    <tr>\n",
       "      <th>mean</th>\n",
       "      <td>33.053194</td>\n",
       "      <td>12.052488</td>\n",
       "      <td>37.060445</td>\n",
       "      <td>3.533462</td>\n",
       "      <td>499.314038</td>\n",
       "    </tr>\n",
       "    <tr>\n",
       "      <th>std</th>\n",
       "      <td>0.992563</td>\n",
       "      <td>0.994216</td>\n",
       "      <td>1.010489</td>\n",
       "      <td>0.999278</td>\n",
       "      <td>79.314782</td>\n",
       "    </tr>\n",
       "    <tr>\n",
       "      <th>min</th>\n",
       "      <td>29.532429</td>\n",
       "      <td>8.508152</td>\n",
       "      <td>33.913847</td>\n",
       "      <td>0.269901</td>\n",
       "      <td>256.670582</td>\n",
       "    </tr>\n",
       "    <tr>\n",
       "      <th>25%</th>\n",
       "      <td>32.341822</td>\n",
       "      <td>11.388153</td>\n",
       "      <td>36.349257</td>\n",
       "      <td>2.930450</td>\n",
       "      <td>445.038277</td>\n",
       "    </tr>\n",
       "    <tr>\n",
       "      <th>50%</th>\n",
       "      <td>33.082008</td>\n",
       "      <td>11.983231</td>\n",
       "      <td>37.069367</td>\n",
       "      <td>3.533975</td>\n",
       "      <td>498.887875</td>\n",
       "    </tr>\n",
       "    <tr>\n",
       "      <th>75%</th>\n",
       "      <td>33.711985</td>\n",
       "      <td>12.753850</td>\n",
       "      <td>37.716432</td>\n",
       "      <td>4.126502</td>\n",
       "      <td>549.313828</td>\n",
       "    </tr>\n",
       "    <tr>\n",
       "      <th>max</th>\n",
       "      <td>36.139662</td>\n",
       "      <td>15.126994</td>\n",
       "      <td>40.005182</td>\n",
       "      <td>6.922689</td>\n",
       "      <td>765.518462</td>\n",
       "    </tr>\n",
       "  </tbody>\n",
       "</table>\n",
       "</div>"
      ],
      "text/plain": [
       "       Avg. Session Length  Time on App  Time on Website  \\\n",
       "count           500.000000   500.000000       500.000000   \n",
       "mean             33.053194    12.052488        37.060445   \n",
       "std               0.992563     0.994216         1.010489   \n",
       "min              29.532429     8.508152        33.913847   \n",
       "25%              32.341822    11.388153        36.349257   \n",
       "50%              33.082008    11.983231        37.069367   \n",
       "75%              33.711985    12.753850        37.716432   \n",
       "max              36.139662    15.126994        40.005182   \n",
       "\n",
       "       Length of Membership  Yearly Amount Spent  \n",
       "count            500.000000           500.000000  \n",
       "mean               3.533462           499.314038  \n",
       "std                0.999278            79.314782  \n",
       "min                0.269901           256.670582  \n",
       "25%                2.930450           445.038277  \n",
       "50%                3.533975           498.887875  \n",
       "75%                4.126502           549.313828  \n",
       "max                6.922689           765.518462  "
      ]
     },
     "execution_count": 221,
     "metadata": {},
     "output_type": "execute_result"
    }
   ],
   "source": [
    "df.describe()"
   ]
  },
  {
   "cell_type": "code",
   "execution_count": 222,
   "metadata": {},
   "outputs": [
    {
     "name": "stdout",
     "output_type": "stream",
     "text": [
      "<class 'pandas.core.frame.DataFrame'>\n",
      "RangeIndex: 500 entries, 0 to 499\n",
      "Data columns (total 8 columns):\n",
      " #   Column                Non-Null Count  Dtype  \n",
      "---  ------                --------------  -----  \n",
      " 0   Email                 500 non-null    object \n",
      " 1   Address               500 non-null    object \n",
      " 2   Avatar                500 non-null    object \n",
      " 3   Avg. Session Length   500 non-null    float64\n",
      " 4   Time on App           500 non-null    float64\n",
      " 5   Time on Website       500 non-null    float64\n",
      " 6   Length of Membership  500 non-null    float64\n",
      " 7   Yearly Amount Spent   500 non-null    float64\n",
      "dtypes: float64(5), object(3)\n",
      "memory usage: 31.4+ KB\n"
     ]
    }
   ],
   "source": [
    "df.info()"
   ]
  },
  {
   "cell_type": "code",
   "execution_count": 223,
   "metadata": {},
   "outputs": [
    {
     "data": {
      "text/plain": [
       "gmail               87\n",
       "hotmail             87\n",
       "yahoo               76\n",
       "johnson              3\n",
       "jones                3\n",
       "                    ..\n",
       "miller-alexander     1\n",
       "bowen                1\n",
       "armstrong            1\n",
       "sawyer-sellers       1\n",
       "norris               1\n",
       "Name: Domain Name, Length: 236, dtype: int64"
      ]
     },
     "execution_count": 223,
     "metadata": {},
     "output_type": "execute_result"
    }
   ],
   "source": [
    "#Feature engineering on Email column just to get the host domain name\n",
    "def split_name(name):\n",
    "    name = name.split('@')\n",
    "    host = name[1]\n",
    "    host = host.split('.')\n",
    "    return str(host[0])\n",
    "df['Domain Name'] = df['Email'].apply(lambda x: str(split_name(x)))\n",
    "df['Domain Name'].value_counts()\n"
   ]
  },
  {
   "cell_type": "code",
   "execution_count": 224,
   "metadata": {},
   "outputs": [
    {
     "data": {
      "text/plain": [
       "0.002    218\n",
       "0.174    174\n",
       "0.152     76\n",
       "0.004     26\n",
       "0.006      6\n",
       "Name: New Domain Name, dtype: int64"
      ]
     },
     "execution_count": 224,
     "metadata": {},
     "output_type": "execute_result"
    }
   ],
   "source": [
    "temp = df['Domain Name'].value_counts(normalize=True)\n",
    "df['New Domain Name']=df['Domain Name'].map(temp)\n",
    "df['New Domain Name'].value_counts()"
   ]
  },
  {
   "cell_type": "code",
   "execution_count": 225,
   "metadata": {},
   "outputs": [
    {
     "data": {
      "text/html": [
       "<div>\n",
       "<style scoped>\n",
       "    .dataframe tbody tr th:only-of-type {\n",
       "        vertical-align: middle;\n",
       "    }\n",
       "\n",
       "    .dataframe tbody tr th {\n",
       "        vertical-align: top;\n",
       "    }\n",
       "\n",
       "    .dataframe thead th {\n",
       "        text-align: right;\n",
       "    }\n",
       "</style>\n",
       "<table border=\"1\" class=\"dataframe\">\n",
       "  <thead>\n",
       "    <tr style=\"text-align: right;\">\n",
       "      <th></th>\n",
       "      <th>Email</th>\n",
       "      <th>Address</th>\n",
       "      <th>Avatar</th>\n",
       "      <th>Avg. Session Length</th>\n",
       "      <th>Time on App</th>\n",
       "      <th>Time on Website</th>\n",
       "      <th>Length of Membership</th>\n",
       "      <th>Yearly Amount Spent</th>\n",
       "      <th>Domain Name</th>\n",
       "      <th>New Domain Name</th>\n",
       "    </tr>\n",
       "  </thead>\n",
       "  <tbody>\n",
       "    <tr>\n",
       "      <th>0</th>\n",
       "      <td>mstephenson@fernandez.com</td>\n",
       "      <td>835 Frank Tunnel\\nWrightmouth, MI 82180-9605</td>\n",
       "      <td>Violet</td>\n",
       "      <td>34.497268</td>\n",
       "      <td>12.655651</td>\n",
       "      <td>39.577668</td>\n",
       "      <td>4.082621</td>\n",
       "      <td>587.951054</td>\n",
       "      <td>fernandez</td>\n",
       "      <td>0.002</td>\n",
       "    </tr>\n",
       "    <tr>\n",
       "      <th>1</th>\n",
       "      <td>hduke@hotmail.com</td>\n",
       "      <td>4547 Archer Common\\nDiazchester, CA 06566-8576</td>\n",
       "      <td>DarkGreen</td>\n",
       "      <td>31.926272</td>\n",
       "      <td>11.109461</td>\n",
       "      <td>37.268959</td>\n",
       "      <td>2.664034</td>\n",
       "      <td>392.204933</td>\n",
       "      <td>hotmail</td>\n",
       "      <td>0.174</td>\n",
       "    </tr>\n",
       "    <tr>\n",
       "      <th>2</th>\n",
       "      <td>pallen@yahoo.com</td>\n",
       "      <td>24645 Valerie Unions Suite 582\\nCobbborough, D...</td>\n",
       "      <td>Bisque</td>\n",
       "      <td>33.000915</td>\n",
       "      <td>11.330278</td>\n",
       "      <td>37.110597</td>\n",
       "      <td>4.104543</td>\n",
       "      <td>487.547505</td>\n",
       "      <td>yahoo</td>\n",
       "      <td>0.152</td>\n",
       "    </tr>\n",
       "    <tr>\n",
       "      <th>3</th>\n",
       "      <td>riverarebecca@gmail.com</td>\n",
       "      <td>1414 David Throughway\\nPort Jason, OH 22070-1220</td>\n",
       "      <td>SaddleBrown</td>\n",
       "      <td>34.305557</td>\n",
       "      <td>13.717514</td>\n",
       "      <td>36.721283</td>\n",
       "      <td>3.120179</td>\n",
       "      <td>581.852344</td>\n",
       "      <td>gmail</td>\n",
       "      <td>0.174</td>\n",
       "    </tr>\n",
       "    <tr>\n",
       "      <th>4</th>\n",
       "      <td>mstephens@davidson-herman.com</td>\n",
       "      <td>14023 Rodriguez Passage\\nPort Jacobville, PR 3...</td>\n",
       "      <td>MediumAquaMarine</td>\n",
       "      <td>33.330673</td>\n",
       "      <td>12.795189</td>\n",
       "      <td>37.536653</td>\n",
       "      <td>4.446308</td>\n",
       "      <td>599.406092</td>\n",
       "      <td>davidson-herman</td>\n",
       "      <td>0.002</td>\n",
       "    </tr>\n",
       "  </tbody>\n",
       "</table>\n",
       "</div>"
      ],
      "text/plain": [
       "                           Email  \\\n",
       "0      mstephenson@fernandez.com   \n",
       "1              hduke@hotmail.com   \n",
       "2               pallen@yahoo.com   \n",
       "3        riverarebecca@gmail.com   \n",
       "4  mstephens@davidson-herman.com   \n",
       "\n",
       "                                             Address            Avatar  \\\n",
       "0       835 Frank Tunnel\\nWrightmouth, MI 82180-9605            Violet   \n",
       "1     4547 Archer Common\\nDiazchester, CA 06566-8576         DarkGreen   \n",
       "2  24645 Valerie Unions Suite 582\\nCobbborough, D...            Bisque   \n",
       "3   1414 David Throughway\\nPort Jason, OH 22070-1220       SaddleBrown   \n",
       "4  14023 Rodriguez Passage\\nPort Jacobville, PR 3...  MediumAquaMarine   \n",
       "\n",
       "   Avg. Session Length  Time on App  Time on Website  Length of Membership  \\\n",
       "0            34.497268    12.655651        39.577668              4.082621   \n",
       "1            31.926272    11.109461        37.268959              2.664034   \n",
       "2            33.000915    11.330278        37.110597              4.104543   \n",
       "3            34.305557    13.717514        36.721283              3.120179   \n",
       "4            33.330673    12.795189        37.536653              4.446308   \n",
       "\n",
       "   Yearly Amount Spent      Domain Name  New Domain Name  \n",
       "0           587.951054        fernandez            0.002  \n",
       "1           392.204933          hotmail            0.174  \n",
       "2           487.547505            yahoo            0.152  \n",
       "3           581.852344            gmail            0.174  \n",
       "4           599.406092  davidson-herman            0.002  "
      ]
     },
     "execution_count": 225,
     "metadata": {},
     "output_type": "execute_result"
    }
   ],
   "source": [
    "df.head()"
   ]
  },
  {
   "cell_type": "code",
   "execution_count": 226,
   "metadata": {},
   "outputs": [
    {
     "name": "stdout",
     "output_type": "stream",
     "text": [
      "Midwest\n"
     ]
    }
   ],
   "source": [
    "#Feature Engineering on the Address column just to get the state initials then getting the respective region from it\n",
    "\n",
    "state_regions = {\n",
    "    'AL': 'South',\n",
    "    'AK': 'West',\n",
    "    'AZ': 'West',\n",
    "    'AR': 'South',\n",
    "    'CA': 'West',\n",
    "    'CO': 'West',\n",
    "    'CT': 'Northeast',\n",
    "    'DE': 'South',\n",
    "    'FL': 'South',\n",
    "    'GA': 'South',\n",
    "    'HI': 'West',\n",
    "    'ID': 'West',\n",
    "    'IL': 'Midwest',\n",
    "    'IN': 'Midwest',\n",
    "    'IA': 'Midwest',\n",
    "    'KS': 'Midwest',\n",
    "    'KY': 'South',\n",
    "    'LA': 'South',\n",
    "    'ME': 'Northeast',\n",
    "    'MD': 'South',\n",
    "    'MA': 'Northeast',\n",
    "    'MI': 'Midwest',\n",
    "    'MN': 'Midwest',\n",
    "    'MS': 'South',\n",
    "    'MO': 'Midwest',\n",
    "    'MT': 'West',\n",
    "    'NE': 'Midwest',\n",
    "    'NV': 'West',\n",
    "    'NH': 'Northeast',\n",
    "    'NJ': 'Northeast',\n",
    "    'NM': 'West',\n",
    "    'NY': 'Northeast',\n",
    "    'NC': 'South',\n",
    "    'ND': 'Midwest',\n",
    "    'OH': 'Midwest',\n",
    "    'OK': 'South',\n",
    "    'OR': 'West',\n",
    "    'PA': 'Northeast',\n",
    "    'RI': 'Northeast',\n",
    "    'SC': 'South',\n",
    "    'SD': 'Midwest',\n",
    "    'TN': 'South',\n",
    "    'TX': 'South',\n",
    "    'UT': 'West',\n",
    "    'VT': 'Northeast',\n",
    "    'VA': 'South',\n",
    "    'WA': 'West',\n",
    "    'WV': 'South',\n",
    "    'WI': 'Midwest',\n",
    "    'WY': 'West'\n",
    "}\n",
    "#default state is CA and region is West\n",
    "def get_region_from_state(state_initials):\n",
    "    state_initials = state_initials.split(',')\n",
    "    if len(state_initials)==1:\n",
    "        return 'West'\n",
    "    state_initials = state_initials[1][1:3]\n",
    "    region = state_regions.get(state_initials)\n",
    "    if region:\n",
    "        return region\n",
    "    else:\n",
    "        return 'West'\n",
    "print((get_region_from_state('835 Frank Tunnel\\nWrightmouth, MI 82180-9605')))"
   ]
  },
  {
   "cell_type": "code",
   "execution_count": 227,
   "metadata": {},
   "outputs": [],
   "source": [
    "df['State Region Encoded'] = df['Address'].apply(lambda x: get_region_from_state(x))"
   ]
  },
  {
   "cell_type": "code",
   "execution_count": 228,
   "metadata": {},
   "outputs": [
    {
     "data": {
      "text/plain": [
       "West         194\n",
       "South        135\n",
       "Midwest       98\n",
       "Northeast     73\n",
       "Name: State Region Encoded, dtype: int64"
      ]
     },
     "execution_count": 228,
     "metadata": {},
     "output_type": "execute_result"
    }
   ],
   "source": [
    "df['State Region Encoded'].value_counts()"
   ]
  },
  {
   "cell_type": "code",
   "execution_count": 229,
   "metadata": {},
   "outputs": [
    {
     "data": {
      "text/plain": [
       "0.388    194\n",
       "0.270    135\n",
       "0.196     98\n",
       "0.146     73\n",
       "Name: State Region Encoded, dtype: int64"
      ]
     },
     "execution_count": 229,
     "metadata": {},
     "output_type": "execute_result"
    }
   ],
   "source": [
    "temp = df['State Region Encoded'].value_counts(normalize=True)\n",
    "df['State Region Encoded']=df['State Region Encoded'].map(temp)\n",
    "df['State Region Encoded'].value_counts()"
   ]
  },
  {
   "cell_type": "code",
   "execution_count": 230,
   "metadata": {},
   "outputs": [
    {
     "data": {
      "text/html": [
       "<div>\n",
       "<style scoped>\n",
       "    .dataframe tbody tr th:only-of-type {\n",
       "        vertical-align: middle;\n",
       "    }\n",
       "\n",
       "    .dataframe tbody tr th {\n",
       "        vertical-align: top;\n",
       "    }\n",
       "\n",
       "    .dataframe thead th {\n",
       "        text-align: right;\n",
       "    }\n",
       "</style>\n",
       "<table border=\"1\" class=\"dataframe\">\n",
       "  <thead>\n",
       "    <tr style=\"text-align: right;\">\n",
       "      <th></th>\n",
       "      <th>Email</th>\n",
       "      <th>Address</th>\n",
       "      <th>Avatar</th>\n",
       "      <th>Avg. Session Length</th>\n",
       "      <th>Time on App</th>\n",
       "      <th>Time on Website</th>\n",
       "      <th>Length of Membership</th>\n",
       "      <th>Yearly Amount Spent</th>\n",
       "      <th>Domain Name</th>\n",
       "      <th>New Domain Name</th>\n",
       "      <th>State Region Encoded</th>\n",
       "    </tr>\n",
       "  </thead>\n",
       "  <tbody>\n",
       "    <tr>\n",
       "      <th>0</th>\n",
       "      <td>mstephenson@fernandez.com</td>\n",
       "      <td>835 Frank Tunnel\\nWrightmouth, MI 82180-9605</td>\n",
       "      <td>Violet</td>\n",
       "      <td>34.497268</td>\n",
       "      <td>12.655651</td>\n",
       "      <td>39.577668</td>\n",
       "      <td>4.082621</td>\n",
       "      <td>587.951054</td>\n",
       "      <td>fernandez</td>\n",
       "      <td>0.002</td>\n",
       "      <td>0.196</td>\n",
       "    </tr>\n",
       "    <tr>\n",
       "      <th>1</th>\n",
       "      <td>hduke@hotmail.com</td>\n",
       "      <td>4547 Archer Common\\nDiazchester, CA 06566-8576</td>\n",
       "      <td>DarkGreen</td>\n",
       "      <td>31.926272</td>\n",
       "      <td>11.109461</td>\n",
       "      <td>37.268959</td>\n",
       "      <td>2.664034</td>\n",
       "      <td>392.204933</td>\n",
       "      <td>hotmail</td>\n",
       "      <td>0.174</td>\n",
       "      <td>0.388</td>\n",
       "    </tr>\n",
       "    <tr>\n",
       "      <th>2</th>\n",
       "      <td>pallen@yahoo.com</td>\n",
       "      <td>24645 Valerie Unions Suite 582\\nCobbborough, D...</td>\n",
       "      <td>Bisque</td>\n",
       "      <td>33.000915</td>\n",
       "      <td>11.330278</td>\n",
       "      <td>37.110597</td>\n",
       "      <td>4.104543</td>\n",
       "      <td>487.547505</td>\n",
       "      <td>yahoo</td>\n",
       "      <td>0.152</td>\n",
       "      <td>0.388</td>\n",
       "    </tr>\n",
       "    <tr>\n",
       "      <th>3</th>\n",
       "      <td>riverarebecca@gmail.com</td>\n",
       "      <td>1414 David Throughway\\nPort Jason, OH 22070-1220</td>\n",
       "      <td>SaddleBrown</td>\n",
       "      <td>34.305557</td>\n",
       "      <td>13.717514</td>\n",
       "      <td>36.721283</td>\n",
       "      <td>3.120179</td>\n",
       "      <td>581.852344</td>\n",
       "      <td>gmail</td>\n",
       "      <td>0.174</td>\n",
       "      <td>0.196</td>\n",
       "    </tr>\n",
       "    <tr>\n",
       "      <th>4</th>\n",
       "      <td>mstephens@davidson-herman.com</td>\n",
       "      <td>14023 Rodriguez Passage\\nPort Jacobville, PR 3...</td>\n",
       "      <td>MediumAquaMarine</td>\n",
       "      <td>33.330673</td>\n",
       "      <td>12.795189</td>\n",
       "      <td>37.536653</td>\n",
       "      <td>4.446308</td>\n",
       "      <td>599.406092</td>\n",
       "      <td>davidson-herman</td>\n",
       "      <td>0.002</td>\n",
       "      <td>0.388</td>\n",
       "    </tr>\n",
       "  </tbody>\n",
       "</table>\n",
       "</div>"
      ],
      "text/plain": [
       "                           Email  \\\n",
       "0      mstephenson@fernandez.com   \n",
       "1              hduke@hotmail.com   \n",
       "2               pallen@yahoo.com   \n",
       "3        riverarebecca@gmail.com   \n",
       "4  mstephens@davidson-herman.com   \n",
       "\n",
       "                                             Address            Avatar  \\\n",
       "0       835 Frank Tunnel\\nWrightmouth, MI 82180-9605            Violet   \n",
       "1     4547 Archer Common\\nDiazchester, CA 06566-8576         DarkGreen   \n",
       "2  24645 Valerie Unions Suite 582\\nCobbborough, D...            Bisque   \n",
       "3   1414 David Throughway\\nPort Jason, OH 22070-1220       SaddleBrown   \n",
       "4  14023 Rodriguez Passage\\nPort Jacobville, PR 3...  MediumAquaMarine   \n",
       "\n",
       "   Avg. Session Length  Time on App  Time on Website  Length of Membership  \\\n",
       "0            34.497268    12.655651        39.577668              4.082621   \n",
       "1            31.926272    11.109461        37.268959              2.664034   \n",
       "2            33.000915    11.330278        37.110597              4.104543   \n",
       "3            34.305557    13.717514        36.721283              3.120179   \n",
       "4            33.330673    12.795189        37.536653              4.446308   \n",
       "\n",
       "   Yearly Amount Spent      Domain Name  New Domain Name  State Region Encoded  \n",
       "0           587.951054        fernandez            0.002                 0.196  \n",
       "1           392.204933          hotmail            0.174                 0.388  \n",
       "2           487.547505            yahoo            0.152                 0.388  \n",
       "3           581.852344            gmail            0.174                 0.196  \n",
       "4           599.406092  davidson-herman            0.002                 0.388  "
      ]
     },
     "execution_count": 230,
     "metadata": {},
     "output_type": "execute_result"
    }
   ],
   "source": [
    "df.head()"
   ]
  },
  {
   "cell_type": "code",
   "execution_count": 231,
   "metadata": {},
   "outputs": [],
   "source": [
    "#now lets scale each of the remaining numerical value columns "
   ]
  },
  {
   "cell_type": "code",
   "execution_count": 232,
   "metadata": {},
   "outputs": [],
   "source": [
    "from sklearn.preprocessing import StandardScaler"
   ]
  },
  {
   "cell_type": "code",
   "execution_count": 233,
   "metadata": {},
   "outputs": [],
   "source": [
    "scaler = StandardScaler()"
   ]
  },
  {
   "cell_type": "code",
   "execution_count": 234,
   "metadata": {},
   "outputs": [],
   "source": [
    "df['Avg Session Length Encoded'] = scaler.fit_transform(df['Avg. Session Length'].values.reshape(-1,1))"
   ]
  },
  {
   "cell_type": "code",
   "execution_count": 235,
   "metadata": {},
   "outputs": [],
   "source": [
    "df['Time on App Encoded'] = scaler.fit_transform(df['Time on App'].values.reshape(-1,1))"
   ]
  },
  {
   "cell_type": "code",
   "execution_count": 236,
   "metadata": {},
   "outputs": [],
   "source": [
    "df['Time on Website Encoded'] = scaler.fit_transform(df['Time on Website'].values.reshape(-1,1))"
   ]
  },
  {
   "cell_type": "code",
   "execution_count": 237,
   "metadata": {},
   "outputs": [],
   "source": [
    "df['Length of Membership Encoded'] = scaler.fit_transform(df['Length of Membership'].values.reshape(-1,1))"
   ]
  },
  {
   "cell_type": "code",
   "execution_count": 238,
   "metadata": {},
   "outputs": [],
   "source": [
    "# now lets do Linear Regression\n",
    "from sklearn.model_selection import train_test_split"
   ]
  },
  {
   "cell_type": "code",
   "execution_count": 239,
   "metadata": {},
   "outputs": [],
   "source": [
    "X_train, X_test, y_train, y_test = train_test_split(df.drop(['Email','Address','Avatar','Avg. Session Length','Time on App','Time on Website','Length of Membership','Yearly Amount Spent','Domain Name'],axis=1), df['Yearly Amount Spent'], test_size=.3)"
   ]
  },
  {
   "cell_type": "code",
   "execution_count": 240,
   "metadata": {},
   "outputs": [],
   "source": [
    "from sklearn.linear_model import LinearRegression"
   ]
  },
  {
   "cell_type": "code",
   "execution_count": 241,
   "metadata": {},
   "outputs": [],
   "source": [
    "linear = LinearRegression()"
   ]
  },
  {
   "cell_type": "code",
   "execution_count": 242,
   "metadata": {},
   "outputs": [
    {
     "data": {
      "text/plain": [
       "LinearRegression(copy_X=True, fit_intercept=True, n_jobs=None, normalize=False)"
      ]
     },
     "execution_count": 242,
     "metadata": {},
     "output_type": "execute_result"
    }
   ],
   "source": [
    "linear.fit(X_train,y_train)"
   ]
  },
  {
   "cell_type": "code",
   "execution_count": 243,
   "metadata": {},
   "outputs": [],
   "source": [
    "pred = linear.predict(X_test)"
   ]
  },
  {
   "cell_type": "code",
   "execution_count": 244,
   "metadata": {},
   "outputs": [
    {
     "data": {
      "text/plain": [
       "Text(0, 0.5, 'Predicted Y')"
      ]
     },
     "execution_count": 244,
     "metadata": {},
     "output_type": "execute_result"
    },
    {
     "data": {
      "image/png": "[encoded data removed]",
      "text/plain": [
       "<Figure size 432x288 with 1 Axes>"
      ]
     },
     "metadata": {
      "needs_background": "light"
     },
     "output_type": "display_data"
    }
   ],
   "source": [
    "plt.scatter(y_test,pred)\n",
    "plt.xlabel('Y Test')\n",
    "plt.ylabel('Predicted Y')"
   ]
  },
  {
   "cell_type": "code",
   "execution_count": 245,
   "metadata": {},
   "outputs": [
    {
     "data": {
      "text/html": [
       "<div>\n",
       "<style scoped>\n",
       "    .dataframe tbody tr th:only-of-type {\n",
       "        vertical-align: middle;\n",
       "    }\n",
       "\n",
       "    .dataframe tbody tr th {\n",
       "        vertical-align: top;\n",
       "    }\n",
       "\n",
       "    .dataframe thead th {\n",
       "        text-align: right;\n",
       "    }\n",
       "</style>\n",
       "<table border=\"1\" class=\"dataframe\">\n",
       "  <thead>\n",
       "    <tr style=\"text-align: right;\">\n",
       "      <th></th>\n",
       "      <th>Coefficient</th>\n",
       "    </tr>\n",
       "  </thead>\n",
       "  <tbody>\n",
       "    <tr>\n",
       "      <th>New Domain Name</th>\n",
       "      <td>-2.620491</td>\n",
       "    </tr>\n",
       "    <tr>\n",
       "      <th>State Region Encoded</th>\n",
       "      <td>-9.292542</td>\n",
       "    </tr>\n",
       "    <tr>\n",
       "      <th>Avg Session Length Encoded</th>\n",
       "      <td>25.007041</td>\n",
       "    </tr>\n",
       "    <tr>\n",
       "      <th>Time on App Encoded</th>\n",
       "      <td>38.523793</td>\n",
       "    </tr>\n",
       "    <tr>\n",
       "      <th>Time on Website Encoded</th>\n",
       "      <td>-0.367276</td>\n",
       "    </tr>\n",
       "    <tr>\n",
       "      <th>Length of Membership Encoded</th>\n",
       "      <td>61.665819</td>\n",
       "    </tr>\n",
       "  </tbody>\n",
       "</table>\n",
       "</div>"
      ],
      "text/plain": [
       "                              Coefficient\n",
       "New Domain Name                 -2.620491\n",
       "State Region Encoded            -9.292542\n",
       "Avg Session Length Encoded      25.007041\n",
       "Time on App Encoded             38.523793\n",
       "Time on Website Encoded         -0.367276\n",
       "Length of Membership Encoded    61.665819"
      ]
     },
     "execution_count": 245,
     "metadata": {},
     "output_type": "execute_result"
    }
   ],
   "source": [
    "coeff_df = pd.DataFrame(linear.coef_,df.drop(['Email','Address','Avatar','Avg. Session Length','Time on App','Time on Website','Length of Membership','Yearly Amount Spent','Domain Name'],axis=1).columns,columns=['Coefficient'])\n",
    "coeff_df"
   ]
  },
  {
   "cell_type": "code",
   "execution_count": 246,
   "metadata": {},
   "outputs": [
    {
     "data": {
      "image/png": "[encoded data removed]",
      "text/plain": [
       "<Figure size 432x288 with 1 Axes>"
      ]
     },
     "metadata": {
      "needs_background": "light"
     },
     "output_type": "display_data"
    }
   ],
   "source": [
    "sns.histplot((y_test-pred),bins=50);"
   ]
  },
  {
   "cell_type": "code",
   "execution_count": 247,
   "metadata": {},
   "outputs": [],
   "source": [
    "from sklearn.metrics import mean_squared_error, mean_absolute_error"
   ]
  },
  {
   "cell_type": "code",
   "execution_count": 248,
   "metadata": {},
   "outputs": [
    {
     "name": "stdout",
     "output_type": "stream",
     "text": [
      "MAE: 8.260409201523247\n",
      "MSE: 103.79404383822256\n",
      "RMSE: 10.187936191310905\n"
     ]
    }
   ],
   "source": [
    "print('MAE:', mean_absolute_error(y_test, pred))\n",
    "print('MSE:', mean_squared_error(y_test, pred))\n",
    "print('RMSE:', np.sqrt(mean_squared_error(y_test, pred)))"
   ]
  },
  {
   "cell_type": "code",
   "execution_count": 249,
   "metadata": {},
   "outputs": [],
   "source": [
    "# now using random forests\n",
    "from sklearn.ensemble import RandomForestRegressor\n",
    "model = RandomForestRegressor(n_estimators=100)"
   ]
  },
  {
   "cell_type": "code",
   "execution_count": 250,
   "metadata": {},
   "outputs": [
    {
     "data": {
      "text/plain": [
       "RandomForestRegressor(bootstrap=True, ccp_alpha=0.0, criterion='mse',\n",
       "                      max_depth=None, max_features='auto', max_leaf_nodes=None,\n",
       "                      max_samples=None, min_impurity_decrease=0.0,\n",
       "                      min_impurity_split=None, min_samples_leaf=1,\n",
       "                      min_samples_split=2, min_weight_fraction_leaf=0.0,\n",
       "                      n_estimators=100, n_jobs=None, oob_score=False,\n",
       "                      random_state=None, verbose=0, warm_start=False)"
      ]
     },
     "execution_count": 250,
     "metadata": {},
     "output_type": "execute_result"
    }
   ],
   "source": [
    "model.fit(X_train,y_train)"
   ]
  },
  {
   "cell_type": "code",
   "execution_count": 251,
   "metadata": {},
   "outputs": [
    {
     "data": {
      "text/html": [
       "<div>\n",
       "<style scoped>\n",
       "    .dataframe tbody tr th:only-of-type {\n",
       "        vertical-align: middle;\n",
       "    }\n",
       "\n",
       "    .dataframe tbody tr th {\n",
       "        vertical-align: top;\n",
       "    }\n",
       "\n",
       "    .dataframe thead th {\n",
       "        text-align: right;\n",
       "    }\n",
       "</style>\n",
       "<table border=\"1\" class=\"dataframe\">\n",
       "  <thead>\n",
       "    <tr style=\"text-align: right;\">\n",
       "      <th></th>\n",
       "      <th>Coefficient</th>\n",
       "    </tr>\n",
       "  </thead>\n",
       "  <tbody>\n",
       "    <tr>\n",
       "      <th>New Domain Name</th>\n",
       "      <td>0.003500</td>\n",
       "    </tr>\n",
       "    <tr>\n",
       "      <th>State Region Encoded</th>\n",
       "      <td>0.004559</td>\n",
       "    </tr>\n",
       "    <tr>\n",
       "      <th>Avg Session Length Encoded</th>\n",
       "      <td>0.083338</td>\n",
       "    </tr>\n",
       "    <tr>\n",
       "      <th>Time on App Encoded</th>\n",
       "      <td>0.239772</td>\n",
       "    </tr>\n",
       "    <tr>\n",
       "      <th>Time on Website Encoded</th>\n",
       "      <td>0.009398</td>\n",
       "    </tr>\n",
       "    <tr>\n",
       "      <th>Length of Membership Encoded</th>\n",
       "      <td>0.659432</td>\n",
       "    </tr>\n",
       "  </tbody>\n",
       "</table>\n",
       "</div>"
      ],
      "text/plain": [
       "                              Coefficient\n",
       "New Domain Name                  0.003500\n",
       "State Region Encoded             0.004559\n",
       "Avg Session Length Encoded       0.083338\n",
       "Time on App Encoded              0.239772\n",
       "Time on Website Encoded          0.009398\n",
       "Length of Membership Encoded     0.659432"
      ]
     },
     "execution_count": 251,
     "metadata": {},
     "output_type": "execute_result"
    }
   ],
   "source": [
    "coeff_df = pd.DataFrame(model.feature_importances_,df.drop(['Email','Address','Avatar','Avg. Session Length','Time on App','Time on Website','Length of Membership','Yearly Amount Spent','Domain Name'],axis=1).columns,columns=['Coefficient'])\n",
    "coeff_df"
   ]
  },
  {
   "cell_type": "code",
   "execution_count": 252,
   "metadata": {},
   "outputs": [],
   "source": [
    "pred = model.predict(X_test)"
   ]
  },
  {
   "cell_type": "code",
   "execution_count": 253,
   "metadata": {},
   "outputs": [
    {
     "data": {
      "text/plain": [
       "Text(0, 0.5, 'Predicted Y')"
      ]
     },
     "execution_count": 253,
     "metadata": {},
     "output_type": "execute_result"
    },
    {
     "data": {
      "image/png": "[encoded data removed]",
      "text/plain": [
       "<Figure size 432x288 with 1 Axes>"
      ]
     },
     "metadata": {
      "needs_background": "light"
     },
     "output_type": "display_data"
    }
   ],
   "source": [
    "plt.scatter(y_test,pred)\n",
    "plt.xlabel('Y Test')\n",
    "plt.ylabel('Predicted Y')"
   ]
  },
  {
   "cell_type": "code",
   "execution_count": 254,
   "metadata": {},
   "outputs": [
    {
     "data": {
      "image/png": "[encoded data removed]",
      "text/plain": [
       "<Figure size 432x288 with 1 Axes>"
      ]
     },
     "metadata": {
      "needs_background": "light"
     },
     "output_type": "display_data"
    }
   ],
   "source": [
    "sns.histplot((y_test-pred),bins=50);"
   ]
  },
  {
   "cell_type": "code",
   "execution_count": 255,
   "metadata": {},
   "outputs": [
    {
     "name": "stdout",
     "output_type": "stream",
     "text": [
      "MAE: 15.16532614072193\n",
      "MSE: 431.44226578398326\n",
      "RMSE: 20.77118835752984\n"
     ]
    }
   ],
   "source": [
    "print('MAE:', mean_absolute_error(y_test, pred))\n",
    "print('MSE:', mean_squared_error(y_test, pred))\n",
    "print('RMSE:', np.sqrt(mean_squared_error(y_test, pred)))"
   ]
  },
  {
   "cell_type": "code",
   "execution_count": 256,
   "metadata": {},
   "outputs": [],
   "source": [
    "#now using GridSearchCV to optimize the hyperparameters of randomforest regressor model\n",
    "from sklearn.model_selection import GridSearchCV\n",
    "param_grid = {\n",
    "    'n_estimators': [50, 100, 200, 400, 600],\n",
    "    'max_depth': [None, 10, 20],\n",
    "    'min_samples_split': [2, 5, 10],\n",
    "    'min_samples_leaf': [1, 2, 4]\n",
    "}\n"
   ]
  },
  {
   "cell_type": "code",
   "execution_count": 257,
   "metadata": {},
   "outputs": [],
   "source": [
    "model = RandomForestRegressor()\n",
    "grid_search = GridSearchCV(estimator=model, param_grid=param_grid, cv=5)"
   ]
  },
  {
   "cell_type": "code",
   "execution_count": 258,
   "metadata": {},
   "outputs": [
    {
     "data": {
      "text/plain": [
       "GridSearchCV(cv=5, error_score=nan,\n",
       "             estimator=RandomForestRegressor(bootstrap=True, ccp_alpha=0.0,\n",
       "                                             criterion='mse', max_depth=None,\n",
       "                                             max_features='auto',\n",
       "                                             max_leaf_nodes=None,\n",
       "                                             max_samples=None,\n",
       "                                             min_impurity_decrease=0.0,\n",
       "                                             min_impurity_split=None,\n",
       "                                             min_samples_leaf=1,\n",
       "                                             min_samples_split=2,\n",
       "                                             min_weight_fraction_leaf=0.0,\n",
       "                                             n_estimators=100, n_jobs=None,\n",
       "                                             oob_score=False, random_state=None,\n",
       "                                             verbose=0, warm_start=False),\n",
       "             iid='deprecated', n_jobs=None,\n",
       "             param_grid={'max_depth': [None, 10, 20],\n",
       "                         'min_samples_leaf': [1, 2, 4],\n",
       "                         'min_samples_split': [2, 5, 10],\n",
       "                         'n_estimators': [50, 100, 200, 400, 600]},\n",
       "             pre_dispatch='2*n_jobs', refit=True, return_train_score=False,\n",
       "             scoring=None, verbose=0)"
      ]
     },
     "execution_count": 258,
     "metadata": {},
     "output_type": "execute_result"
    }
   ],
   "source": [
    "grid_search.fit(X_train, y_train)"
   ]
  },
  {
   "cell_type": "code",
   "execution_count": 259,
   "metadata": {},
   "outputs": [
    {
     "data": {
      "text/plain": [
       "{'max_depth': None,\n",
       " 'min_samples_leaf': 1,\n",
       " 'min_samples_split': 2,\n",
       " 'n_estimators': 600}"
      ]
     },
     "execution_count": 259,
     "metadata": {},
     "output_type": "execute_result"
    }
   ],
   "source": [
    "best_params = grid_search.best_params_\n",
    "best_params"
   ]
  },
  {
   "cell_type": "code",
   "execution_count": 260,
   "metadata": {},
   "outputs": [
    {
     "data": {
      "text/plain": [
       "RandomForestRegressor(bootstrap=True, ccp_alpha=0.0, criterion='mse',\n",
       "                      max_depth=None, max_features='auto', max_leaf_nodes=None,\n",
       "                      max_samples=None, min_impurity_decrease=0.0,\n",
       "                      min_impurity_split=None, min_samples_leaf=1,\n",
       "                      min_samples_split=2, min_weight_fraction_leaf=0.0,\n",
       "                      n_estimators=600, n_jobs=None, oob_score=False,\n",
       "                      random_state=None, verbose=0, warm_start=False)"
      ]
     },
     "execution_count": 260,
     "metadata": {},
     "output_type": "execute_result"
    }
   ],
   "source": [
    "best_estimator = grid_search.best_estimator_\n",
    "best_estimator"
   ]
  },
  {
   "cell_type": "code",
   "execution_count": 261,
   "metadata": {},
   "outputs": [],
   "source": [
    "pred = best_estimator.predict(X_test)"
   ]
  },
  {
   "cell_type": "code",
   "execution_count": 262,
   "metadata": {},
   "outputs": [
    {
     "data": {
      "text/plain": [
       "Text(0, 0.5, 'Predicted Y')"
      ]
     },
     "execution_count": 262,
     "metadata": {},
     "output_type": "execute_result"
    },
    {
     "data": {
      "image/png": "[encoded data removed]",
      "text/plain": [
       "<Figure size 432x288 with 1 Axes>"
      ]
     },
     "metadata": {
      "needs_background": "light"
     },
     "output_type": "display_data"
    }
   ],
   "source": [
    "plt.scatter(y_test,pred)\n",
    "plt.xlabel('Y Test')\n",
    "plt.ylabel('Predicted Y')"
   ]
  },
  {
   "cell_type": "code",
   "execution_count": 263,
   "metadata": {},
   "outputs": [
    {
     "data": {
      "image/png": "[encoded data removed]",
      "text/plain": [
       "<Figure size 432x288 with 1 Axes>"
      ]
     },
     "metadata": {
      "needs_background": "light"
     },
     "output_type": "display_data"
    }
   ],
   "source": [
    "sns.histplot((y_test-pred),bins=50);"
   ]
  },
  {
   "cell_type": "code",
   "execution_count": 264,
   "metadata": {},
   "outputs": [
    {
     "name": "stdout",
     "output_type": "stream",
     "text": [
      "MAE: 15.302441226961788\n",
      "MSE: 448.6496073517739\n",
      "RMSE: 21.181350461001628\n"
     ]
    }
   ],
   "source": [
    "print('MAE:', mean_absolute_error(y_test, pred))\n",
    "print('MSE:', mean_squared_error(y_test, pred))\n",
    "print('RMSE:', np.sqrt(mean_squared_error(y_test, pred)))"
   ]
  }
 ],
 "metadata": {
  "kernelspec": {
   "display_name": "Python 3",
   "language": "python",
   "name": "python3"
  },
  "language_info": {
   "codemirror_mode": {
    "name": "ipython",
    "version": 3
   },
   "file_extension": ".py",
   "mimetype": "text/x-python",
   "name": "python",
   "nbconvert_exporter": "python",
   "pygments_lexer": "ipython3",
   "version": "3.7.6"
  }
 },
 "nbformat": 4,
 "nbformat_minor": 4
}
